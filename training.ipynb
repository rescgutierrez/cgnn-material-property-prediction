{
 "cells": [
  {
   "cell_type": "code",
   "execution_count": 1,
   "metadata": {
    "colab": {},
    "colab_type": "code",
    "id": "1dY-BBFAkNX5"
   },
   "outputs": [],
   "source": [
    "#!pip install dgl-cu102 hyperopt ase "
   ]
  },
  {
   "cell_type": "code",
   "execution_count": 2,
   "metadata": {
    "colab": {
     "base_uri": "https://localhost:8080/",
     "height": 34
    },
    "colab_type": "code",
    "id": "oMgTYqFdi1Xc",
    "nteract": {
     "transient": {
      "deleting": false
     }
    },
    "outputId": "45da74ce-7355-4918-f84e-16c3f737248b"
   },
   "outputs": [],
   "source": [
    "import os\n",
    "os.environ['DGLBACKEND'] = \"pytorch\""
   ]
  },
  {
   "cell_type": "code",
   "execution_count": 3,
   "metadata": {
    "colab": {
     "base_uri": "https://localhost:8080/",
     "height": 34
    },
    "colab_type": "code",
    "id": "oMgTYqFdi1Xc",
    "nteract": {
     "transient": {
      "deleting": false
     }
    },
    "outputId": "45da74ce-7355-4918-f84e-16c3f737248b"
   },
   "outputs": [
    {
     "name": "stderr",
     "output_type": "stream",
     "text": [
      "Using backend: pytorch\n"
     ]
    }
   ],
   "source": [
    "import numpy as np\n",
    "import matplotlib.pyplot as plt\n",
    "\n",
    "from network import CG_CNN_Layer, Net\n",
    "from dataset import GraphDataset\n",
    "\n",
    "import dgl\n",
    "from dgl.data.utils import split_dataset\n",
    "\n",
    "from time import perf_counter\n",
    "\n",
    "import torch as th\n",
    "\n",
    "from datetime import datetime\n",
    "from multiprocessing import cpu_count\n",
    "\n",
    "from math import floor\n",
    "\n",
    "import warnings"
   ]
  },
  {
   "cell_type": "code",
   "execution_count": 4,
   "metadata": {
    "colab": {},
    "colab_type": "code",
    "collapsed": false,
    "id": "pCCaH7Kci1Xt",
    "jupyter": {
     "outputs_hidden": false,
     "source_hidden": false
    },
    "nteract": {
     "transient": {
      "deleting": false
     }
    }
   },
   "outputs": [],
   "source": [
    "# CUDA for PyTorch\n",
    "use_cuda = th.cuda.is_available()\n",
    "device = th.device(\"cuda:0\" if use_cuda else \"cpu\")\n",
    "# th.backends.cudnn.benchmark = True"
   ]
  },
  {
   "cell_type": "code",
   "execution_count": 5,
   "metadata": {},
   "outputs": [],
   "source": [
    "np.random.seed(42)\n",
    "length = 2400\n",
    "seq = np.arange(1,length+1)\n",
    "seq = np.random.choice(seq,size=length,replace=False)\n",
    "trainratio = 0.8\n",
    "index = floor(length*trainratio)\n",
    "train_idxs = seq[0:index]\n",
    "valid_idxs = seq[index:]\n",
    "trainingset = GraphDataset(\"data.bin\", train_idxs)\n",
    "validset = GraphDataset(\"data.bin\", valid_idxs)"
   ]
  },
  {
   "cell_type": "code",
   "execution_count": 6,
   "metadata": {
    "colab": {},
    "colab_type": "code",
    "collapsed": false,
    "id": "Xb0ku_ori1YL",
    "jupyter": {
     "outputs_hidden": false,
     "source_hidden": false
    },
    "nteract": {
     "transient": {
      "deleting": false
     }
    }
   },
   "outputs": [],
   "source": [
    "obj_params = {'architecture': {'activation': th.nn.modules.activation.ReLU,\n",
    "  'n_conv': 1,\n",
    "  'neuron_ratios': ((3, 2), (200, 100))},\n",
    " 'batch_size': 32,\n",
    " 'optimizer_params': {'amsgrad': False,\n",
    "  'betas': (0.9, 0.9999),\n",
    "  'lr': 0.01,\n",
    "  'weight_decay': 0.0025}}"
   ]
  },
  {
   "cell_type": "code",
   "execution_count": 7,
   "metadata": {
    "colab": {},
    "colab_type": "code",
    "collapsed": false,
    "id": "Xb0ku_ori1YL",
    "jupyter": {
     "outputs_hidden": false,
     "source_hidden": false
    },
    "nteract": {
     "transient": {
      "deleting": false
     }
    }
   },
   "outputs": [
    {
     "data": {
      "text/plain": [
       "{'architecture': {'activation': torch.nn.modules.activation.ReLU,\n",
       "  'n_conv': 1,\n",
       "  'neuron_ratios': ((3, 2), (200, 100))},\n",
       " 'batch_size': 32,\n",
       " 'optimizer_params': {'amsgrad': False,\n",
       "  'betas': (0.9, 0.9999),\n",
       "  'lr': 0.01,\n",
       "  'weight_decay': 0.0025}}"
      ]
     },
     "execution_count": 7,
     "metadata": {},
     "output_type": "execute_result"
    }
   ],
   "source": [
    "# Batch size is not used, I haven't implemented efficient batch training \n",
    "# because pytorch batch utilities don't work with graph objects\n",
    "obj_params"
   ]
  },
  {
   "cell_type": "code",
   "execution_count": 8,
   "metadata": {
    "colab": {},
    "colab_type": "code",
    "collapsed": false,
    "id": "Xb0ku_ori1YL",
    "jupyter": {
     "outputs_hidden": false,
     "source_hidden": false
    },
    "nteract": {
     "transient": {
      "deleting": false
     }
    }
   },
   "outputs": [],
   "source": [
    "class RMSLELoss(th.nn.Module):\n",
    "\n",
    "    def __init__(self):\n",
    "        super(RMSLELoss, self).__init__()\n",
    "\n",
    "    def forward(self, x, y):\n",
    "        ret = th.log((x + 1) / (y + 1))\n",
    "        ret = th.norm(ret)/th.sqrt(th.tensor(ret.shape[0], dtype = th.float))\n",
    "        return ret"
   ]
  },
  {
   "cell_type": "code",
   "execution_count": 9,
   "metadata": {
    "colab": {},
    "colab_type": "code",
    "collapsed": false,
    "id": "Xb0ku_ori1YL",
    "jupyter": {
     "outputs_hidden": false,
     "source_hidden": false
    },
    "nteract": {
     "transient": {
      "deleting": false
     }
    }
   },
   "outputs": [],
   "source": [
    "th.manual_seed(42)\n",
    "in_feats = 4\n",
    "net = Net(in_feats=in_feats, **obj_params['architecture']).to(device)\n",
    "opt = th.optim.Adam(net.parameters(), **obj_params['optimizer_params'])\n",
    "scheduler = th.optim.lr_scheduler.CosineAnnealingWarmRestarts(opt, 100, eta_min = 0.0001)\n",
    "loss = th.nn.L1Loss()\n",
    "# loss = RMSLELoss()\n",
    "verbose = True\n",
    "epoch_time = []"
   ]
  },
  {
   "cell_type": "code",
   "execution_count": 10,
   "metadata": {
    "colab": {},
    "colab_type": "code",
    "collapsed": false,
    "id": "Xb0ku_ori1YL",
    "jupyter": {
     "outputs_hidden": false,
     "source_hidden": false
    },
    "nteract": {
     "transient": {
      "deleting": false
     }
    }
   },
   "outputs": [
    {
     "name": "stdout",
     "output_type": "stream",
     "text": [
      "step #0 | ep_train_loss = 2.1328 | ep_valid_loss = 7.4442 | epoch_time = 7.94\n",
      "step #2 | ep_train_loss = 2.8882 | ep_valid_loss = 1.5853 | epoch_time = 6.47\n",
      "step #4 | ep_train_loss = 1.5533 | ep_valid_loss = 0.8903 | epoch_time = 6.40\n",
      "step #6 | ep_train_loss = 1.3025 | ep_valid_loss = 0.9733 | epoch_time = 7.14\n",
      "step #8 | ep_train_loss = 0.8077 | ep_valid_loss = 1.0337 | epoch_time = 6.71\n",
      "step #10 | ep_train_loss = 0.9239 | ep_valid_loss = 0.8525 | epoch_time = 7.94\n",
      "step #12 | ep_train_loss = 0.7791 | ep_valid_loss = 0.8458 | epoch_time = 7.87\n",
      "step #14 | ep_train_loss = 0.8068 | ep_valid_loss = 0.7698 | epoch_time = 8.51\n",
      "step #16 | ep_train_loss = 0.7153 | ep_valid_loss = 0.7774 | epoch_time = 7.18\n",
      "step #18 | ep_train_loss = 0.6946 | ep_valid_loss = 0.6832 | epoch_time = 6.98\n",
      "step #20 | ep_train_loss = 0.6489 | ep_valid_loss = 0.6274 | epoch_time = 6.85\n",
      "step #22 | ep_train_loss = 0.5695 | ep_valid_loss = 0.5827 | epoch_time = 6.92\n",
      "step #24 | ep_train_loss = 0.4957 | ep_valid_loss = 0.4711 | epoch_time = 7.82\n",
      "step #26 | ep_train_loss = 0.4207 | ep_valid_loss = 0.4278 | epoch_time = 8.51\n",
      "step #28 | ep_train_loss = 0.4025 | ep_valid_loss = 0.3554 | epoch_time = 7.52\n",
      "step #30 | ep_train_loss = 0.3931 | ep_valid_loss = 0.3569 | epoch_time = 8.81\n",
      "step #32 | ep_train_loss = 0.3756 | ep_valid_loss = 0.3301 | epoch_time = 7.62\n",
      "step #34 | ep_train_loss = 0.3666 | ep_valid_loss = 0.3556 | epoch_time = 7.84\n",
      "step #36 | ep_train_loss = 0.3445 | ep_valid_loss = 0.3495 | epoch_time = 7.28\n",
      "step #38 | ep_train_loss = 0.3793 | ep_valid_loss = 0.3513 | epoch_time = 6.91\n",
      "step #40 | ep_train_loss = 0.3862 | ep_valid_loss = 0.3292 | epoch_time = 6.65\n",
      "step #42 | ep_train_loss = 0.3622 | ep_valid_loss = 0.3187 | epoch_time = 6.53\n",
      "step #44 | ep_train_loss = 0.3499 | ep_valid_loss = 0.3149 | epoch_time = 6.61\n",
      "step #46 | ep_train_loss = 0.3413 | ep_valid_loss = 0.3063 | epoch_time = 6.68\n",
      "step #48 | ep_train_loss = 0.3421 | ep_valid_loss = 0.3108 | epoch_time = 6.61\n",
      "step #50 | ep_train_loss = 0.3405 | ep_valid_loss = 0.3001 | epoch_time = 6.68\n",
      "step #52 | ep_train_loss = 0.3397 | ep_valid_loss = 0.3012 | epoch_time = 6.58\n",
      "step #54 | ep_train_loss = 0.3345 | ep_valid_loss = 0.3025 | epoch_time = 6.62\n",
      "step #56 | ep_train_loss = 0.3326 | ep_valid_loss = 0.3006 | epoch_time = 6.70\n",
      "step #58 | ep_train_loss = 0.3279 | ep_valid_loss = 0.3026 | epoch_time = 6.91\n",
      "step #60 | ep_train_loss = 0.3232 | ep_valid_loss = 0.2994 | epoch_time = 6.84\n",
      "step #62 | ep_train_loss = 0.3213 | ep_valid_loss = 0.3025 | epoch_time = 8.57\n",
      "step #64 | ep_train_loss = 0.3229 | ep_valid_loss = 0.2964 | epoch_time = 6.97\n",
      "step #66 | ep_train_loss = 0.3227 | ep_valid_loss = 0.2964 | epoch_time = 8.17\n",
      "step #68 | ep_train_loss = 0.3202 | ep_valid_loss = 0.2997 | epoch_time = 7.26\n",
      "step #70 | ep_train_loss = 0.3206 | ep_valid_loss = 0.2966 | epoch_time = 7.53\n",
      "step #72 | ep_train_loss = 0.3203 | ep_valid_loss = 0.2964 | epoch_time = 7.28\n",
      "step #74 | ep_train_loss = 0.3193 | ep_valid_loss = 0.2976 | epoch_time = 7.00\n",
      "step #76 | ep_train_loss = 0.3198 | ep_valid_loss = 0.2972 | epoch_time = 7.97\n",
      "step #78 | ep_train_loss = 0.3188 | ep_valid_loss = 0.2949 | epoch_time = 7.60\n",
      "step #80 | ep_train_loss = 0.3190 | ep_valid_loss = 0.2945 | epoch_time = 7.28\n",
      "step #82 | ep_train_loss = 0.3186 | ep_valid_loss = 0.2952 | epoch_time = 7.10\n",
      "step #84 | ep_train_loss = 0.3186 | ep_valid_loss = 0.2956 | epoch_time = 7.56\n",
      "step #86 | ep_train_loss = 0.3185 | ep_valid_loss = 0.2950 | epoch_time = 7.46\n",
      "step #88 | ep_train_loss = 0.3183 | ep_valid_loss = 0.2944 | epoch_time = 7.15\n",
      "step #90 | ep_train_loss = 0.3182 | ep_valid_loss = 0.2942 | epoch_time = 7.39\n",
      "step #92 | ep_train_loss = 0.3182 | ep_valid_loss = 0.2943 | epoch_time = 7.16\n",
      "step #94 | ep_train_loss = 0.3182 | ep_valid_loss = 0.2944 | epoch_time = 7.07\n",
      "step #96 | ep_train_loss = 0.3181 | ep_valid_loss = 0.2945 | epoch_time = 6.59\n",
      "step #98 | ep_train_loss = 0.3181 | ep_valid_loss = 0.2945 | epoch_time = 8.05\n",
      "step #100 | ep_train_loss = 0.3181 | ep_valid_loss = 0.2945 | epoch_time = 7.90\n",
      "step #102 | ep_train_loss = 0.3336 | ep_valid_loss = 0.3974 | epoch_time = 7.28\n",
      "step #104 | ep_train_loss = 0.5985 | ep_valid_loss = 0.5663 | epoch_time = 7.20\n",
      "step #106 | ep_train_loss = 0.3999 | ep_valid_loss = 0.4413 | epoch_time = 6.53\n",
      "step #108 | ep_train_loss = 0.4605 | ep_valid_loss = 0.4697 | epoch_time = 6.72\n",
      "step #110 | ep_train_loss = 0.3728 | ep_valid_loss = 0.3494 | epoch_time = 6.61\n",
      "step #112 | ep_train_loss = 0.4075 | ep_valid_loss = 0.3433 | epoch_time = 6.71\n",
      "step #114 | ep_train_loss = 0.4738 | ep_valid_loss = 0.3856 | epoch_time = 7.10\n",
      "step #116 | ep_train_loss = 0.4178 | ep_valid_loss = 0.3048 | epoch_time = 6.76\n",
      "step #118 | ep_train_loss = 0.4070 | ep_valid_loss = 0.3480 | epoch_time = 6.71\n",
      "step #120 | ep_train_loss = 0.3579 | ep_valid_loss = 0.3362 | epoch_time = 6.58\n",
      "step #122 | ep_train_loss = 0.3175 | ep_valid_loss = 0.3302 | epoch_time = 6.64\n",
      "step #124 | ep_train_loss = 0.3193 | ep_valid_loss = 0.3536 | epoch_time = 6.72\n",
      "step #126 | ep_train_loss = 0.3666 | ep_valid_loss = 0.3665 | epoch_time = 6.66\n",
      "step #128 | ep_train_loss = 0.3161 | ep_valid_loss = 0.3398 | epoch_time = 7.70\n",
      "step #130 | ep_train_loss = 0.3341 | ep_valid_loss = 0.3316 | epoch_time = 6.71\n",
      "step #132 | ep_train_loss = 0.3246 | ep_valid_loss = 0.3126 | epoch_time = 6.72\n",
      "step #134 | ep_train_loss = 0.3261 | ep_valid_loss = 0.3184 | epoch_time = 6.78\n",
      "step #136 | ep_train_loss = 0.3154 | ep_valid_loss = 0.3094 | epoch_time = 6.89\n",
      "step #138 | ep_train_loss = 0.3164 | ep_valid_loss = 0.3028 | epoch_time = 6.74\n",
      "step #140 | ep_train_loss = 0.3153 | ep_valid_loss = 0.2949 | epoch_time = 6.37\n",
      "step #142 | ep_train_loss = 0.3151 | ep_valid_loss = 0.2954 | epoch_time = 6.82\n",
      "step #144 | ep_train_loss = 0.3132 | ep_valid_loss = 0.2910 | epoch_time = 6.75\n",
      "step #146 | ep_train_loss = 0.3125 | ep_valid_loss = 0.2929 | epoch_time = 6.69\n",
      "step #148 | ep_train_loss = 0.3112 | ep_valid_loss = 0.2905 | epoch_time = 6.73\n",
      "step #150 | ep_train_loss = 0.3106 | ep_valid_loss = 0.2921 | epoch_time = 6.32\n",
      "step #152 | ep_train_loss = 0.3105 | ep_valid_loss = 0.2901 | epoch_time = 6.30\n",
      "step #154 | ep_train_loss = 0.3102 | ep_valid_loss = 0.2899 | epoch_time = 8.18\n",
      "step #156 | ep_train_loss = 0.3102 | ep_valid_loss = 0.2883 | epoch_time = 7.73\n",
      "step #158 | ep_train_loss = 0.3097 | ep_valid_loss = 0.2879 | epoch_time = 6.63\n",
      "step #160 | ep_train_loss = 0.3091 | ep_valid_loss = 0.2882 | epoch_time = 6.64\n",
      "step #162 | ep_train_loss = 0.3085 | ep_valid_loss = 0.2876 | epoch_time = 6.99\n",
      "step #164 | ep_train_loss = 0.3082 | ep_valid_loss = 0.2875 | epoch_time = 8.27\n",
      "step #166 | ep_train_loss = 0.3082 | ep_valid_loss = 0.2871 | epoch_time = 7.52\n",
      "step #168 | ep_train_loss = 0.3078 | ep_valid_loss = 0.2869 | epoch_time = 7.38\n",
      "step #170 | ep_train_loss = 0.3076 | ep_valid_loss = 0.2867 | epoch_time = 6.92\n",
      "step #172 | ep_train_loss = 0.3075 | ep_valid_loss = 0.2864 | epoch_time = 7.41\n",
      "step #174 | ep_train_loss = 0.3072 | ep_valid_loss = 0.2863 | epoch_time = 7.35\n",
      "step #176 | ep_train_loss = 0.3071 | ep_valid_loss = 0.2863 | epoch_time = 7.44\n",
      "step #178 | ep_train_loss = 0.3070 | ep_valid_loss = 0.2863 | epoch_time = 7.43\n",
      "step #180 | ep_train_loss = 0.3069 | ep_valid_loss = 0.2862 | epoch_time = 7.37\n",
      "step #182 | ep_train_loss = 0.3068 | ep_valid_loss = 0.2862 | epoch_time = 7.44\n",
      "step #184 | ep_train_loss = 0.3067 | ep_valid_loss = 0.2861 | epoch_time = 7.73\n",
      "step #186 | ep_train_loss = 0.3067 | ep_valid_loss = 0.2861 | epoch_time = 9.29\n",
      "step #188 | ep_train_loss = 0.3066 | ep_valid_loss = 0.2860 | epoch_time = 10.02\n",
      "step #190 | ep_train_loss = 0.3066 | ep_valid_loss = 0.2860 | epoch_time = 9.71\n",
      "step #192 | ep_train_loss = 0.3066 | ep_valid_loss = 0.2860 | epoch_time = 7.97\n",
      "step #194 | ep_train_loss = 0.3065 | ep_valid_loss = 0.2860 | epoch_time = 7.98\n",
      "step #196 | ep_train_loss = 0.3065 | ep_valid_loss = 0.2860 | epoch_time = 7.71\n",
      "step #198 | ep_train_loss = 0.3065 | ep_valid_loss = 0.2860 | epoch_time = 7.01\n"
     ]
    }
   ],
   "source": [
    "labels = trainingset[0][1]['glabel']\n",
    "for epoch in range(200):\n",
    "    pred_label = th.zeros((len(train_idxs), 2))\n",
    "    t_start = perf_counter()\n",
    "    ep_t_loss = th.tensor(0,dtype=th.float,requires_grad=True)\n",
    "    ep_v_loss = 0\n",
    "    j=0\n",
    "    #with th.autograd.detect_anomaly():\n",
    "    for graph, _, index in trainingset:\n",
    "        label = labels[index-1]\n",
    "        graph = graph[0]\n",
    "        # Transfer to GPU\n",
    "        graph, label = graph.to(\n",
    "            device), label.to(device)\n",
    "\n",
    "        # Model computations\n",
    "        pred = net(graph)\n",
    "        pred_label[j,0], pred_label[j,1]= th.flatten(pred), th.flatten(label)\n",
    "        \n",
    "        j+=1\n",
    "    ep_t_loss = loss(pred_label[:,0],pred_label[:,1])\n",
    "    ep_t_loss.backward()\n",
    "    opt.step()\n",
    "    scheduler.step(epoch)\n",
    "    opt.zero_grad()\n",
    "    t_end = perf_counter()\n",
    "    \n",
    "    pred = th.tensor([net(graph[0]) for graph,_,_ in validset])\n",
    "    ep_v_loss = loss(pred,labels[valid_idxs-1])\n",
    "    \n",
    "    epoch_time.append(t_end - t_start)\n",
    "    if epoch % 2 == 0 and verbose:\n",
    "        print(f\"step #{epoch} | ep_train_loss = {ep_t_loss.item():.4f}\"\n",
    "             f\" | ep_valid_loss = {ep_v_loss.item():.4f}\"\n",
    "             f\" | epoch_time = {t_end - t_start:.2f}\")\n",
    "             #f\" | lost_batches = {nan_batches}\")"
   ]
  },
  {
   "cell_type": "code",
   "execution_count": 11,
   "metadata": {
    "colab": {},
    "colab_type": "code",
    "collapsed": false,
    "id": "Xb0ku_ori1YL",
    "jupyter": {
     "outputs_hidden": false,
     "source_hidden": false
    },
    "nteract": {
     "transient": {
      "deleting": false
     }
    }
   },
   "outputs": [],
   "source": [
    "th.save(net.state_dict(), \"model3.pt\")"
   ]
  }
 ],
 "metadata": {
  "colab": {
   "collapsed_sections": [],
   "name": "training.ipynb",
   "provenance": [],
   "toc_visible": true
  },
  "kernelspec": {
   "display_name": "Python 3",
   "language": "python",
   "name": "python3"
  },
  "language_info": {
   "codemirror_mode": {
    "name": "ipython",
    "version": 3
   },
   "file_extension": ".py",
   "mimetype": "text/x-python",
   "name": "python",
   "nbconvert_exporter": "python",
   "pygments_lexer": "ipython3",
   "version": "3.8.5"
  }
 },
 "nbformat": 4,
 "nbformat_minor": 4
}
