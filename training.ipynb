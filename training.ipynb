{
 "cells": [
  {
   "cell_type": "code",
   "execution_count": 1,
   "metadata": {
    "colab": {},
    "colab_type": "code",
    "id": "1dY-BBFAkNX5"
   },
   "outputs": [],
   "source": [
    "#!pip install dgl-cu102 hyperopt ase "
   ]
  },
  {
   "cell_type": "code",
   "execution_count": 2,
   "metadata": {
    "colab": {
     "base_uri": "https://localhost:8080/",
     "height": 34
    },
    "colab_type": "code",
    "id": "oMgTYqFdi1Xc",
    "nteract": {
     "transient": {
      "deleting": false
     }
    },
    "outputId": "45da74ce-7355-4918-f84e-16c3f737248b"
   },
   "outputs": [],
   "source": [
    "import os\n",
    "os.environ['DGLBACKEND'] = \"pytorch\""
   ]
  },
  {
   "cell_type": "code",
   "execution_count": 3,
   "metadata": {
    "colab": {
     "base_uri": "https://localhost:8080/",
     "height": 34
    },
    "colab_type": "code",
    "id": "oMgTYqFdi1Xc",
    "nteract": {
     "transient": {
      "deleting": false
     }
    },
    "outputId": "45da74ce-7355-4918-f84e-16c3f737248b"
   },
   "outputs": [
    {
     "name": "stderr",
     "output_type": "stream",
     "text": [
      "Using backend: pytorch\n"
     ]
    }
   ],
   "source": [
    "import numpy as np\n",
    "\n",
    "from network import CG_CNN_Layer, Net\n",
    "from dataset import GraphDataset\n",
    "\n",
    "import dgl\n",
    "from dgl.data.utils import split_dataset\n",
    "\n",
    "from time import perf_counter\n",
    "\n",
    "import torch as th\n",
    "\n",
    "from datetime import datetime\n",
    "from multiprocessing import cpu_count\n",
    "\n",
    "import warnings"
   ]
  },
  {
   "cell_type": "code",
   "execution_count": 4,
   "metadata": {
    "colab": {},
    "colab_type": "code",
    "collapsed": false,
    "id": "pCCaH7Kci1Xt",
    "jupyter": {
     "outputs_hidden": false,
     "source_hidden": false
    },
    "nteract": {
     "transient": {
      "deleting": false
     }
    }
   },
   "outputs": [],
   "source": [
    "warnings.filterwarnings(\"ignore\", \"Recommend creating graphs by\")"
   ]
  },
  {
   "cell_type": "code",
   "execution_count": 5,
   "metadata": {
    "colab": {},
    "colab_type": "code",
    "collapsed": false,
    "id": "pCCaH7Kci1Xt",
    "jupyter": {
     "outputs_hidden": false,
     "source_hidden": false
    },
    "nteract": {
     "transient": {
      "deleting": false
     }
    }
   },
   "outputs": [],
   "source": [
    "# CUDA for PyTorch\n",
    "use_cuda = th.cuda.is_available()\n",
    "device = th.device(\"cuda:0\" if use_cuda else \"cpu\")\n",
    "# th.backends.cudnn.benchmark = True"
   ]
  },
  {
   "cell_type": "code",
   "execution_count": 21,
   "metadata": {},
   "outputs": [],
   "source": [
    "train_idxs, valid_idxs, test_idxs = split_dataset(dataset = np.arange(1,2401), \n",
    "                                                  frac_list=[0.7,0.2,0.1], shuffle=True, \n",
    "                                                  random_state=42)\n",
    "\n",
    "trainingset = GraphDataset(\"data.bin\", tuple(train_idxs))\n",
    "validset = GraphDataset(\"data.bin\", tuple(valid_idxs))"
   ]
  },
  {
   "cell_type": "code",
   "execution_count": 7,
   "metadata": {
    "colab": {},
    "colab_type": "code",
    "collapsed": false,
    "id": "Xb0ku_ori1YL",
    "jupyter": {
     "outputs_hidden": false,
     "source_hidden": false
    },
    "nteract": {
     "transient": {
      "deleting": false
     }
    }
   },
   "outputs": [],
   "source": [
    "obj_params = {'architecture': {'activation': th.nn.modules.activation.ReLU,\n",
    "  'n_conv': 1,\n",
    "  'neuron_ratios': ((3, 2), (200, 100))},\n",
    " 'batch_size': 32,\n",
    " 'optimizer_params': {'amsgrad': False,\n",
    "  'betas': (0.9, 0.9999),\n",
    "  'lr': 0.01,\n",
    "  'weight_decay': 0.0025}}"
   ]
  },
  {
   "cell_type": "code",
   "execution_count": 8,
   "metadata": {
    "colab": {},
    "colab_type": "code",
    "collapsed": false,
    "id": "Xb0ku_ori1YL",
    "jupyter": {
     "outputs_hidden": false,
     "source_hidden": false
    },
    "nteract": {
     "transient": {
      "deleting": false
     }
    }
   },
   "outputs": [
    {
     "data": {
      "text/plain": [
       "{'architecture': {'activation': torch.nn.modules.activation.ReLU,\n",
       "  'n_conv': 1,\n",
       "  'neuron_ratios': ((3, 2), (200, 100))},\n",
       " 'batch_size': 32,\n",
       " 'optimizer_params': {'amsgrad': False,\n",
       "  'betas': (0.9, 0.9999),\n",
       "  'lr': 0.01,\n",
       "  'weight_decay': 0.0025}}"
      ]
     },
     "execution_count": 8,
     "metadata": {},
     "output_type": "execute_result"
    }
   ],
   "source": [
    "obj_params"
   ]
  },
  {
   "cell_type": "code",
   "execution_count": 11,
   "metadata": {
    "colab": {},
    "colab_type": "code",
    "collapsed": false,
    "id": "Xb0ku_ori1YL",
    "jupyter": {
     "outputs_hidden": false,
     "source_hidden": false
    },
    "nteract": {
     "transient": {
      "deleting": false
     }
    }
   },
   "outputs": [],
   "source": [
    "in_feats = 4\n",
    "net = Net(in_feats=in_feats, **obj_params['architecture']).to(device)\n",
    "opt = th.optim.Adam(net.parameters(), **obj_params['optimizer_params'])\n",
    "loss = th.nn.MSELoss()\n",
    "v_loss = th.nn.MSELoss()\n",
    "max_epochs = 300\n",
    "verbose = True\n",
    "nan_count = []\n",
    "min_ep_v_loss = 100\n",
    "epoch_time = []\n",
    "nan_batches = 0"
   ]
  },
  {
   "cell_type": "code",
   "execution_count": 12,
   "metadata": {
    "colab": {},
    "colab_type": "code",
    "collapsed": false,
    "id": "Xb0ku_ori1YL",
    "jupyter": {
     "outputs_hidden": false,
     "source_hidden": false
    },
    "nteract": {
     "transient": {
      "deleting": false
     }
    }
   },
   "outputs": [
    {
     "name": "stdout",
     "output_type": "stream",
     "text": [
      "step #0 | ep_train_loss = 2.3356 | epoch_time = 6.68 | lost_batches = 0\n",
      "step #2 | ep_train_loss = 1.2176 | epoch_time = 5.75 | lost_batches = 0\n",
      "step #4 | ep_train_loss = 2.3946 | epoch_time = 5.88 | lost_batches = 0\n",
      "step #6 | ep_train_loss = 1.9407 | epoch_time = 6.49 | lost_batches = 0\n",
      "step #8 | ep_train_loss = 1.0445 | epoch_time = 5.66 | lost_batches = 0\n",
      "step #10 | ep_train_loss = 1.4131 | epoch_time = 5.69 | lost_batches = 0\n",
      "step #12 | ep_train_loss = 1.1626 | epoch_time = 5.72 | lost_batches = 0\n",
      "step #14 | ep_train_loss = 1.0035 | epoch_time = 6.59 | lost_batches = 0\n",
      "step #16 | ep_train_loss = 1.1313 | epoch_time = 5.82 | lost_batches = 0\n",
      "step #18 | ep_train_loss = 0.9550 | epoch_time = 5.83 | lost_batches = 0\n"
     ]
    }
   ],
   "source": [
    "for epoch in range(20):\n",
    "    t_start = perf_counter()\n",
    "    ep_t_loss = 0\n",
    "    ep_v_loss = 0\n",
    "    j=0\n",
    "    #with th.autograd.detect_anomaly():\n",
    "    for graph, label, index in trainingset:\n",
    "        j+=1\n",
    "        label = label['glabel'][index]\n",
    "        graph = graph[0]\n",
    "        # Transfer to GPU\n",
    "        graph, label = graph.to(\n",
    "            device), label.to(device)\n",
    "\n",
    "        # Model computations\n",
    "        pred = net(graph)\n",
    "#         try:\n",
    "#             pred = net(local_batch)\n",
    "#         except KeyError:\n",
    "#             j-=1\n",
    "#             nan_batches+=1\n",
    "#             opt.zero_grad()\n",
    "#             continue\n",
    "#             print(pred.shape)\n",
    "#             print(local_targets.shape)\n",
    "        ep_t_loss+=loss(pred.float(), label.float())\n",
    "    ep_t_loss/=j\n",
    "    ep_t_loss.backward()\n",
    "    opt.step()\n",
    "    opt.zero_grad()\n",
    "    t_end = perf_counter()\n",
    "    \n",
    "#     j=0\n",
    "#     for graph, label, index in validset:\n",
    "#         j+=1\n",
    "\n",
    "#         label = label['glabel'][index]\n",
    "#         graph = graph[0]\n",
    "#         # Transfer to GPU\n",
    "#         graph, label = graph.to(\n",
    "#             device), label.to(device)\n",
    "\n",
    "#         pred = net(graph)\n",
    "#         ep_v_loss+=loss(pred.float(), label.float())\n",
    "#     ep_v_loss/=j\n",
    "    \n",
    "    epoch_time.append(t_end - t_start)\n",
    "    if epoch % 2 == 0 and verbose:\n",
    "        print(f\"step #{epoch} | ep_train_loss = {np.sqrt(ep_t_loss.item()):.4f}\"\n",
    "            #f\" | ep_valid_loss = {np.sqrt(ep_v_loss):.4f}\"\n",
    "             f\" | epoch_time = {t_end - t_start:.2f}\"\n",
    "             f\" | lost_batches = {nan_batches}\")"
   ]
  },
  {
   "cell_type": "code",
   "execution_count": 18,
   "metadata": {
    "colab": {},
    "colab_type": "code",
    "collapsed": false,
    "id": "Xb0ku_ori1YL",
    "jupyter": {
     "outputs_hidden": false,
     "source_hidden": false
    },
    "nteract": {
     "transient": {
      "deleting": false
     }
    }
   },
   "outputs": [
    {
     "data": {
      "text/plain": [
       "480"
      ]
     },
     "execution_count": 18,
     "metadata": {},
     "output_type": "execute_result"
    }
   ],
   "source": [
    "len(tuple(valid_idxs))"
   ]
  },
  {
   "cell_type": "code",
   "execution_count": 22,
   "metadata": {
    "colab": {},
    "colab_type": "code",
    "collapsed": false,
    "id": "Xb0ku_ori1YL",
    "jupyter": {
     "outputs_hidden": false,
     "source_hidden": false
    },
    "nteract": {
     "transient": {
      "deleting": false
     }
    }
   },
   "outputs": [
    {
     "name": "stdout",
     "output_type": "stream",
     "text": [
      "20\n",
      "40\n",
      "60\n",
      "80\n",
      "100\n",
      "120\n",
      "140\n",
      "160\n",
      "180\n",
      "200\n",
      "220\n",
      "240\n",
      "260\n",
      "280\n",
      "300\n",
      "320\n",
      "340\n"
     ]
    },
    {
     "ename": "DGLError",
     "evalue": "[01:37:06] /opt/dgl/src/graph/heterograph.cc:509: Check failed: magicNum == kDGLSerialize_HeteroGraph (15937764024707752255 vs. 15949673719616654015) : Invalid HeteroGraph Data\nStack trace:\n  [bt] (0) /home/raul/anaconda3/envs/python/lib/python3.8/site-packages/dgl/libdgl.so(dmlc::LogMessageFatal::~LogMessageFatal()+0x4f) [0x7f8ce08827af]\n  [bt] (1) /home/raul/anaconda3/envs/python/lib/python3.8/site-packages/dgl/libdgl.so(dgl::HeteroGraph::Load(dmlc::Stream*)+0x151) [0x7f8ce0f97981]\n  [bt] (2) /home/raul/anaconda3/envs/python/lib/python3.8/site-packages/dgl/libdgl.so(dgl::serialize::LoadHeteroGraphs(std::string const&, std::vector<unsigned long, std::allocator<unsigned long> >)+0x7ea) [0x7f8ce101d51a]\n  [bt] (3) /home/raul/anaconda3/envs/python/lib/python3.8/site-packages/dgl/libdgl.so(+0x99a3df) [0x7f8ce10163df]\n  [bt] (4) /home/raul/anaconda3/envs/python/lib/python3.8/site-packages/dgl/libdgl.so(DGLFuncCall+0x48) [0x7f8ce0f34478]\n  [bt] (5) /home/raul/anaconda3/envs/python/lib/python3.8/site-packages/dgl/_ffi/_cy3/core.cpython-38-x86_64-linux-gnu.so(+0x16f99) [0x7f8ce0671f99]\n  [bt] (6) /home/raul/anaconda3/envs/python/lib/python3.8/site-packages/dgl/_ffi/_cy3/core.cpython-38-x86_64-linux-gnu.so(+0x1727b) [0x7f8ce067227b]\n  [bt] (7) /home/raul/anaconda3/envs/python/bin/python3.8(_PyObject_MakeTpCall+0x3bf) [0x5628b37159af]\n  [bt] (8) /home/raul/anaconda3/envs/python/bin/python3.8(_PyEval_EvalFrameDefault+0x4e10) [0x5628b37c7190]\n\n",
     "output_type": "error",
     "traceback": [
      "\u001b[0;31m---------------------------------------------------------------------------\u001b[0m",
      "\u001b[0;31mDGLError\u001b[0m                                  Traceback (most recent call last)",
      "\u001b[0;32m<ipython-input-22-9d616ec466c7>\u001b[0m in \u001b[0;36m<module>\u001b[0;34m\u001b[0m\n\u001b[1;32m      1\u001b[0m \u001b[0mj\u001b[0m\u001b[0;34m=\u001b[0m\u001b[0;36m0\u001b[0m\u001b[0;34m\u001b[0m\u001b[0;34m\u001b[0m\u001b[0m\n\u001b[0;32m----> 2\u001b[0;31m \u001b[0;32mfor\u001b[0m \u001b[0mgraph\u001b[0m\u001b[0;34m,\u001b[0m \u001b[0mlabel\u001b[0m\u001b[0;34m,\u001b[0m \u001b[0mindex\u001b[0m \u001b[0;32min\u001b[0m \u001b[0mvalidset\u001b[0m\u001b[0;34m:\u001b[0m\u001b[0;34m\u001b[0m\u001b[0;34m\u001b[0m\u001b[0m\n\u001b[0m\u001b[1;32m      3\u001b[0m     \u001b[0mj\u001b[0m\u001b[0;34m+=\u001b[0m\u001b[0;36m1\u001b[0m\u001b[0;34m\u001b[0m\u001b[0;34m\u001b[0m\u001b[0m\n\u001b[1;32m      4\u001b[0m \u001b[0;34m\u001b[0m\u001b[0m\n\u001b[1;32m      5\u001b[0m     \u001b[0mlabel\u001b[0m \u001b[0;34m=\u001b[0m \u001b[0mlabel\u001b[0m\u001b[0;34m[\u001b[0m\u001b[0;34m'glabel'\u001b[0m\u001b[0;34m]\u001b[0m\u001b[0;34m[\u001b[0m\u001b[0mindex\u001b[0m\u001b[0;34m]\u001b[0m\u001b[0;34m\u001b[0m\u001b[0;34m\u001b[0m\u001b[0m\n",
      "\u001b[0;32m~/Documents/Proyectos/Materials/dataset.py\u001b[0m in \u001b[0;36m__getitem__\u001b[0;34m(self, idx)\u001b[0m\n\u001b[1;32m     28\u001b[0m \u001b[0;34m\u001b[0m\u001b[0m\n\u001b[1;32m     29\u001b[0m         \u001b[0mi\u001b[0m \u001b[0;34m=\u001b[0m \u001b[0mint\u001b[0m\u001b[0;34m(\u001b[0m\u001b[0mself\u001b[0m\u001b[0;34m.\u001b[0m\u001b[0midxs\u001b[0m\u001b[0;34m[\u001b[0m\u001b[0midx\u001b[0m\u001b[0;34m]\u001b[0m\u001b[0;34m)\u001b[0m\u001b[0;34m\u001b[0m\u001b[0;34m\u001b[0m\u001b[0m\n\u001b[0;32m---> 30\u001b[0;31m         \u001b[0mgraphs\u001b[0m\u001b[0;34m,\u001b[0m \u001b[0mlabels\u001b[0m \u001b[0;34m=\u001b[0m \u001b[0mdgl\u001b[0m\u001b[0;34m.\u001b[0m\u001b[0mdata\u001b[0m\u001b[0;34m.\u001b[0m\u001b[0mload_graphs\u001b[0m\u001b[0;34m(\u001b[0m\u001b[0mself\u001b[0m\u001b[0;34m.\u001b[0m\u001b[0mfilename\u001b[0m\u001b[0;34m,\u001b[0m\u001b[0;34m[\u001b[0m\u001b[0mi\u001b[0m\u001b[0;34m]\u001b[0m\u001b[0;34m)\u001b[0m\u001b[0;34m\u001b[0m\u001b[0;34m\u001b[0m\u001b[0m\n\u001b[0m\u001b[1;32m     31\u001b[0m \u001b[0;34m\u001b[0m\u001b[0m\n\u001b[1;32m     32\u001b[0m \u001b[0;34m\u001b[0m\u001b[0m\n",
      "\u001b[0;32m~/anaconda3/envs/python/lib/python3.8/site-packages/dgl/data/graph_serialize.py\u001b[0m in \u001b[0;36mload_graphs\u001b[0;34m(filename, idx_list)\u001b[0m\n\u001b[1;32m    180\u001b[0m         \u001b[0;32mreturn\u001b[0m \u001b[0mload_graph_v1\u001b[0m\u001b[0;34m(\u001b[0m\u001b[0mfilename\u001b[0m\u001b[0;34m,\u001b[0m \u001b[0midx_list\u001b[0m\u001b[0;34m)\u001b[0m\u001b[0;34m\u001b[0m\u001b[0;34m\u001b[0m\u001b[0m\n\u001b[1;32m    181\u001b[0m     \u001b[0;32melif\u001b[0m \u001b[0mversion\u001b[0m \u001b[0;34m==\u001b[0m \u001b[0;36m2\u001b[0m\u001b[0;34m:\u001b[0m\u001b[0;34m\u001b[0m\u001b[0;34m\u001b[0m\u001b[0m\n\u001b[0;32m--> 182\u001b[0;31m         \u001b[0;32mreturn\u001b[0m \u001b[0mload_graph_v2\u001b[0m\u001b[0;34m(\u001b[0m\u001b[0mfilename\u001b[0m\u001b[0;34m,\u001b[0m \u001b[0midx_list\u001b[0m\u001b[0;34m)\u001b[0m\u001b[0;34m\u001b[0m\u001b[0;34m\u001b[0m\u001b[0m\n\u001b[0m\u001b[1;32m    183\u001b[0m     \u001b[0;32melse\u001b[0m\u001b[0;34m:\u001b[0m\u001b[0;34m\u001b[0m\u001b[0;34m\u001b[0m\u001b[0m\n\u001b[1;32m    184\u001b[0m         \u001b[0;32mraise\u001b[0m \u001b[0mDGLError\u001b[0m\u001b[0;34m(\u001b[0m\u001b[0;34m\"Invalid DGL Version Number.\"\u001b[0m\u001b[0;34m)\u001b[0m\u001b[0;34m\u001b[0m\u001b[0;34m\u001b[0m\u001b[0m\n",
      "\u001b[0;32m~/anaconda3/envs/python/lib/python3.8/site-packages/dgl/data/graph_serialize.py\u001b[0m in \u001b[0;36mload_graph_v2\u001b[0;34m(filename, idx_list)\u001b[0m\n\u001b[1;32m    190\u001b[0m         \u001b[0midx_list\u001b[0m \u001b[0;34m=\u001b[0m \u001b[0;34m[\u001b[0m\u001b[0;34m]\u001b[0m\u001b[0;34m\u001b[0m\u001b[0;34m\u001b[0m\u001b[0m\n\u001b[1;32m    191\u001b[0m     \u001b[0;32massert\u001b[0m \u001b[0misinstance\u001b[0m\u001b[0;34m(\u001b[0m\u001b[0midx_list\u001b[0m\u001b[0;34m,\u001b[0m \u001b[0mlist\u001b[0m\u001b[0;34m)\u001b[0m\u001b[0;34m\u001b[0m\u001b[0;34m\u001b[0m\u001b[0m\n\u001b[0;32m--> 192\u001b[0;31m     \u001b[0mheterograph_list\u001b[0m \u001b[0;34m=\u001b[0m \u001b[0m_CAPI_LoadGraphFiles_V2\u001b[0m\u001b[0;34m(\u001b[0m\u001b[0mfilename\u001b[0m\u001b[0;34m,\u001b[0m \u001b[0midx_list\u001b[0m\u001b[0;34m)\u001b[0m\u001b[0;34m\u001b[0m\u001b[0;34m\u001b[0m\u001b[0m\n\u001b[0m\u001b[1;32m    193\u001b[0m     \u001b[0mlabel_dict\u001b[0m \u001b[0;34m=\u001b[0m \u001b[0mload_labels_v2\u001b[0m\u001b[0;34m(\u001b[0m\u001b[0mfilename\u001b[0m\u001b[0;34m)\u001b[0m\u001b[0;34m\u001b[0m\u001b[0;34m\u001b[0m\u001b[0m\n\u001b[1;32m    194\u001b[0m     \u001b[0;32mreturn\u001b[0m \u001b[0;34m[\u001b[0m\u001b[0mgdata\u001b[0m\u001b[0;34m.\u001b[0m\u001b[0mget_graph\u001b[0m\u001b[0;34m(\u001b[0m\u001b[0;34m)\u001b[0m \u001b[0;32mfor\u001b[0m \u001b[0mgdata\u001b[0m \u001b[0;32min\u001b[0m \u001b[0mheterograph_list\u001b[0m\u001b[0;34m]\u001b[0m\u001b[0;34m,\u001b[0m \u001b[0mlabel_dict\u001b[0m\u001b[0;34m\u001b[0m\u001b[0;34m\u001b[0m\u001b[0m\n",
      "\u001b[0;32mdgl/_ffi/_cython/./function.pxi\u001b[0m in \u001b[0;36mdgl._ffi._cy3.core.FunctionBase.__call__\u001b[0;34m()\u001b[0m\n",
      "\u001b[0;32mdgl/_ffi/_cython/./function.pxi\u001b[0m in \u001b[0;36mdgl._ffi._cy3.core.FuncCall\u001b[0;34m()\u001b[0m\n",
      "\u001b[0;32mdgl/_ffi/_cython/./function.pxi\u001b[0m in \u001b[0;36mdgl._ffi._cy3.core.FuncCall3\u001b[0;34m()\u001b[0m\n",
      "\u001b[0;32mdgl/_ffi/_cython/./base.pxi\u001b[0m in \u001b[0;36mdgl._ffi._cy3.core.CALL\u001b[0;34m()\u001b[0m\n",
      "\u001b[0;31mDGLError\u001b[0m: [01:37:06] /opt/dgl/src/graph/heterograph.cc:509: Check failed: magicNum == kDGLSerialize_HeteroGraph (15937764024707752255 vs. 15949673719616654015) : Invalid HeteroGraph Data\nStack trace:\n  [bt] (0) /home/raul/anaconda3/envs/python/lib/python3.8/site-packages/dgl/libdgl.so(dmlc::LogMessageFatal::~LogMessageFatal()+0x4f) [0x7f8ce08827af]\n  [bt] (1) /home/raul/anaconda3/envs/python/lib/python3.8/site-packages/dgl/libdgl.so(dgl::HeteroGraph::Load(dmlc::Stream*)+0x151) [0x7f8ce0f97981]\n  [bt] (2) /home/raul/anaconda3/envs/python/lib/python3.8/site-packages/dgl/libdgl.so(dgl::serialize::LoadHeteroGraphs(std::string const&, std::vector<unsigned long, std::allocator<unsigned long> >)+0x7ea) [0x7f8ce101d51a]\n  [bt] (3) /home/raul/anaconda3/envs/python/lib/python3.8/site-packages/dgl/libdgl.so(+0x99a3df) [0x7f8ce10163df]\n  [bt] (4) /home/raul/anaconda3/envs/python/lib/python3.8/site-packages/dgl/libdgl.so(DGLFuncCall+0x48) [0x7f8ce0f34478]\n  [bt] (5) /home/raul/anaconda3/envs/python/lib/python3.8/site-packages/dgl/_ffi/_cy3/core.cpython-38-x86_64-linux-gnu.so(+0x16f99) [0x7f8ce0671f99]\n  [bt] (6) /home/raul/anaconda3/envs/python/lib/python3.8/site-packages/dgl/_ffi/_cy3/core.cpython-38-x86_64-linux-gnu.so(+0x1727b) [0x7f8ce067227b]\n  [bt] (7) /home/raul/anaconda3/envs/python/bin/python3.8(_PyObject_MakeTpCall+0x3bf) [0x5628b37159af]\n  [bt] (8) /home/raul/anaconda3/envs/python/bin/python3.8(_PyEval_EvalFrameDefault+0x4e10) [0x5628b37c7190]\n\n"
     ]
    }
   ],
   "source": [
    "j=0\n",
    "for graph, label, index in validset:\n",
    "    j+=1\n",
    "\n",
    "    label = label['glabel'][index]\n",
    "    graph = graph[0]\n",
    "    # Transfer to GPU\n",
    "    graph, label = graph.to(\n",
    "        device), label.to(device)\n",
    "\n",
    "    pred = net(graph)\n",
    "    ep_v_loss+=loss(pred.float(), label.float())\n",
    "    if j%20==0:\n",
    "        print(j)\n",
    "ep_v_loss/=j"
   ]
  }
 ],
 "metadata": {
  "colab": {
   "collapsed_sections": [],
   "name": "training.ipynb",
   "provenance": [],
   "toc_visible": true
  },
  "kernelspec": {
   "display_name": "Python 3",
   "language": "python",
   "name": "python3"
  },
  "language_info": {
   "codemirror_mode": {
    "name": "ipython",
    "version": 3
   },
   "file_extension": ".py",
   "mimetype": "text/x-python",
   "name": "python",
   "nbconvert_exporter": "python",
   "pygments_lexer": "ipython3",
   "version": "3.8.5"
  }
 },
 "nbformat": 4,
 "nbformat_minor": 4
}
